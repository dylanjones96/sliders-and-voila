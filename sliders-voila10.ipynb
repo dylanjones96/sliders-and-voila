{
 "cells": [
  {
   "cell_type": "code",
   "execution_count": 1,
   "metadata": {},
   "outputs": [],
   "source": [
    "import ipywidgets as widgets\n",
    "import matplotlib.pyplot as plt\n",
    "import numpy as np\n",
    "\n",
    "from tables import *"
   ]
  },
  {
   "cell_type": "markdown",
   "metadata": {},
   "source": [
    "# A heading for Voila to render \n",
    "\n",
    "## A subheading for Voila to render\n",
    "\n",
    "- Voila! It works ... for now. \n",
    "- Only change the bottom two sliders to positive values as using a reduced data set.\n",
    "- The responsiveness doesn't seem to be to bad. This is using base matplotlib to plot."
   ]
  },
  {
   "cell_type": "code",
   "execution_count": 2,
   "metadata": {},
   "outputs": [],
   "source": [
    "class App:\n",
    "    \n",
    "    def __init__(self, h5file_data):\n",
    "        \n",
    "        # Initialise data and plot widget. \n",
    "        self._h5file_data = h5file_data\n",
    "        self._kpoints = h5file_data.get_node('/VL2_data', 'k_points')\n",
    "        self._plot_container = widgets.Output()\n",
    "\n",
    "        # Define the variable parameter sliders. \n",
    "        self._potential_height_slider, potential_height_slider_box = self._create_parameter_slider(\n",
    "            min_val=0.0, max_val=0.5, step_val=0.10, default_val=0.0, model_param=r'$V_H$')\n",
    "        self._tp_slider, tp_slider_box = self._create_parameter_slider(\n",
    "            min_val=-0.5, max_val=0.5, step_val=0.05, default_val=-0.05, model_param=r\"$t'$\")\n",
    "        self._tsoc_slider, tsoc_slider_box = self._create_parameter_slider(\n",
    "            min_val=-0.2, max_val=0.2, step_val=0.02, default_val=0.0, model_param=r\"$t_{soc}$\")\n",
    "        self._deltaU1_slider, deltaU1_slider_box = self._create_parameter_slider(\n",
    "            min_val=-0.5, max_val=0.5, step_val=0.1, default_val=0.0, model_param=r\"$\\Delta U_1$\")\n",
    "        self._deltaU2_slider, deltaU2_slider_box = self._create_parameter_slider(\n",
    "            min_val=-0.5, max_val=0.5, step_val=0.1, default_val=0.0, model_param=r\"$\\Delta U_2$\")\n",
    "        \n",
    "        # Define the arrangement of the Output (plot_container) and slider widgets.\n",
    "        self.container = widgets.VBox([\n",
    "            self._plot_container,\n",
    "            potential_height_slider_box, \n",
    "            tp_slider_box,\n",
    "            tsoc_slider_box,\n",
    "            deltaU1_slider_box,\n",
    "            deltaU2_slider_box\n",
    "        ], layout=widgets.Layout(align_items='center'))\n",
    "        \n",
    "        # Initialise the plot with default values for sliders. \n",
    "        self._update_app()\n",
    "\n",
    "    \n",
    "    @classmethod\n",
    "    def from_file(cls, filename):\n",
    "        data = open_file(filename, 'r')\n",
    "        return cls(data) \n",
    "    \n",
    "    def _create_indicator_dropdown(self, indicators, initial_index):\n",
    "        dropdown = widgets.Dropdown(options=indicators, value=indicators[initial_index])\n",
    "        dropdown.observe(self._on_change, names=['value'])\n",
    "        return dropdown\n",
    "    \n",
    "    def _create_parameter_slider(self, min_val, max_val, step_val, default_val, model_param):\n",
    "        parameter_slider = widgets.FloatSlider(\n",
    "            min=min_val, max=max_val, step=step_val, value=default_val, \n",
    "            description=model_param+': ', layout=widgets.Layout(width='500px')\n",
    "        )\n",
    "        parameter_slider.observe(self._on_change, names=['value'])\n",
    "        parameter_slider_box = widgets.HBox([parameter_slider])\n",
    "        return parameter_slider, parameter_slider_box\n",
    "    \n",
    "    def _get_bands(self, potential_height, tp, tsoc, deltaU1, deltaU2):\n",
    "        t = -1.0  # fix nearest-neighbour hopping parameter \n",
    "        potential_period = 2.0  # potential_period fixed for now\n",
    "        params_path_potential = 'VL' + '{0:.0f}'.format(potential_period) + '_VH' + '{0:.3f}'.format(potential_height)\n",
    "        params_path_hoppings = '_t' + '{0:.2f}'.format(t) + '_tp' + '{0:.2f}'.format(tp) + \\\n",
    "                               '_tsoc' + '{0:.2f}'.format(tsoc)\n",
    "        params_path_onsite = '_deltaU1' + '{0:.2f}'.format(deltaU1) + '_deltaU2' + '{0:.2f}'.format(deltaU2)\n",
    "        bands_filename = params_path_potential + params_path_hoppings + params_path_onsite\n",
    "        bands = self._h5file_data.get_node('/VL2_data', 'bands_'+bands_filename)\n",
    "        return bands\n",
    "    \n",
    "    def _create_plot(self, potential_height_value, tp_value, tsoc_value, deltaU1_value, deltaU2_value):\n",
    "        bands = self._get_bands(potential_height_value, tp_value, tsoc_value, \n",
    "                                deltaU1_value, deltaU2_value)\n",
    "        plt.figure()\n",
    "        for band_ind in range(len(bands[0])):\n",
    "            plt.plot(self._kpoints[:], bands[:, band_ind], color=default_blue)\n",
    "        plt.xlabel(r'$k$ path')\n",
    "        plt.ylabel(r'$E$ (eV)')\n",
    "        \n",
    "    def _on_change(self, _):\n",
    "        self._update_app()\n",
    "        \n",
    "    def _update_app(self):\n",
    "        potential_height_value = self._potential_height_slider.value\n",
    "        tp_value = self._tp_slider.value\n",
    "        tsoc_value = self._tsoc_slider.value\n",
    "        deltaU1_value = self._deltaU1_slider.value\n",
    "        deltaU2_value = self._deltaU2_slider.value\n",
    "        self._plot_container.clear_output(wait=True)\n",
    "        with self._plot_container:\n",
    "            self._create_plot(potential_height_value, tp_value, tsoc_value, deltaU1_value, deltaU2_value)\n",
    "            plt.show()"
   ]
  },
  {
   "cell_type": "code",
   "execution_count": 3,
   "metadata": {},
   "outputs": [
    {
     "data": {
      "application/vnd.jupyter.widget-view+json": {
       "model_id": "24ca1b2269b440a7a8315afa0ac5f4db",
       "version_major": 2,
       "version_minor": 0
      },
      "text/plain": [
       "VBox(children=(Output(), HBox(children=(FloatSlider(value=0.0, description='$V_H$: ', layout=Layout(width='500…"
      ]
     },
     "metadata": {},
     "output_type": "display_data"
    }
   ],
   "source": [
    "default_blue = '#1f77b4'  # default matplotlib blue\n",
    "app = App.from_file('all_data.h5')\n",
    "\n",
    "app.container"
   ]
  }
 ],
 "metadata": {
  "kernelspec": {
   "display_name": "Python 3 (ipykernel)",
   "language": "python",
   "name": "python3"
  },
  "language_info": {
   "codemirror_mode": {
    "name": "ipython",
    "version": 3
   },
   "file_extension": ".py",
   "mimetype": "text/x-python",
   "name": "python",
   "nbconvert_exporter": "python",
   "pygments_lexer": "ipython3",
   "version": "3.9.13"
  }
 },
 "nbformat": 4,
 "nbformat_minor": 4
}
